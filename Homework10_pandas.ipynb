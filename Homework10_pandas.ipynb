{
 "cells": [
  {
   "cell_type": "code",
   "execution_count": 2,
   "metadata": {},
   "outputs": [],
   "source": [
    "#Задание 1\n",
    "#Определите какому фильму было выставлено больше всего оценок 5.0\n",
    "import pandas as pd\n",
    "\n",
    "#чтение файлов\n",
    "data_ratings = pd.read_csv(r'C:\\Users\\mazar\\Documents\\Python\\Нетология - курс\\ml-latest-small\\ratings.csv')\n",
    "data_movies = pd.read_csv(r'C:\\Users\\mazar\\Documents\\Python\\Нетология - курс\\ml-latest-small\\movies.csv')"
   ]
  },
  {
   "cell_type": "code",
   "execution_count": 3,
   "metadata": {
    "scrolled": true
   },
   "outputs": [
    {
     "data": {
      "text/html": [
       "<div>\n",
       "<style scoped>\n",
       "    .dataframe tbody tr th:only-of-type {\n",
       "        vertical-align: middle;\n",
       "    }\n",
       "\n",
       "    .dataframe tbody tr th {\n",
       "        vertical-align: top;\n",
       "    }\n",
       "\n",
       "    .dataframe thead th {\n",
       "        text-align: right;\n",
       "    }\n",
       "</style>\n",
       "<table border=\"1\" class=\"dataframe\">\n",
       "  <thead>\n",
       "    <tr style=\"text-align: right;\">\n",
       "      <th></th>\n",
       "      <th>movieId</th>\n",
       "      <th>title</th>\n",
       "      <th>genres</th>\n",
       "    </tr>\n",
       "  </thead>\n",
       "  <tbody>\n",
       "    <tr>\n",
       "      <th>0</th>\n",
       "      <td>1</td>\n",
       "      <td>Toy Story (1995)</td>\n",
       "      <td>Adventure|Animation|Children|Comedy|Fantasy</td>\n",
       "    </tr>\n",
       "    <tr>\n",
       "      <th>1</th>\n",
       "      <td>2</td>\n",
       "      <td>Jumanji (1995)</td>\n",
       "      <td>Adventure|Children|Fantasy</td>\n",
       "    </tr>\n",
       "    <tr>\n",
       "      <th>2</th>\n",
       "      <td>3</td>\n",
       "      <td>Grumpier Old Men (1995)</td>\n",
       "      <td>Comedy|Romance</td>\n",
       "    </tr>\n",
       "    <tr>\n",
       "      <th>3</th>\n",
       "      <td>4</td>\n",
       "      <td>Waiting to Exhale (1995)</td>\n",
       "      <td>Comedy|Drama|Romance</td>\n",
       "    </tr>\n",
       "    <tr>\n",
       "      <th>4</th>\n",
       "      <td>5</td>\n",
       "      <td>Father of the Bride Part II (1995)</td>\n",
       "      <td>Comedy</td>\n",
       "    </tr>\n",
       "  </tbody>\n",
       "</table>\n",
       "</div>"
      ],
      "text/plain": [
       "   movieId                               title  \\\n",
       "0        1                    Toy Story (1995)   \n",
       "1        2                      Jumanji (1995)   \n",
       "2        3             Grumpier Old Men (1995)   \n",
       "3        4            Waiting to Exhale (1995)   \n",
       "4        5  Father of the Bride Part II (1995)   \n",
       "\n",
       "                                        genres  \n",
       "0  Adventure|Animation|Children|Comedy|Fantasy  \n",
       "1                   Adventure|Children|Fantasy  \n",
       "2                               Comedy|Romance  \n",
       "3                         Comedy|Drama|Romance  \n",
       "4                                       Comedy  "
      ]
     },
     "execution_count": 3,
     "metadata": {},
     "output_type": "execute_result"
    }
   ],
   "source": [
    "data_movies.head() #просмотр содержимого"
   ]
  },
  {
   "cell_type": "code",
   "execution_count": 4,
   "metadata": {
    "scrolled": true
   },
   "outputs": [
    {
     "data": {
      "text/html": [
       "<div>\n",
       "<style scoped>\n",
       "    .dataframe tbody tr th:only-of-type {\n",
       "        vertical-align: middle;\n",
       "    }\n",
       "\n",
       "    .dataframe tbody tr th {\n",
       "        vertical-align: top;\n",
       "    }\n",
       "\n",
       "    .dataframe thead th {\n",
       "        text-align: right;\n",
       "    }\n",
       "</style>\n",
       "<table border=\"1\" class=\"dataframe\">\n",
       "  <thead>\n",
       "    <tr style=\"text-align: right;\">\n",
       "      <th></th>\n",
       "      <th>userId</th>\n",
       "      <th>movieId</th>\n",
       "      <th>rating</th>\n",
       "      <th>timestamp</th>\n",
       "    </tr>\n",
       "  </thead>\n",
       "  <tbody>\n",
       "    <tr>\n",
       "      <th>0</th>\n",
       "      <td>1</td>\n",
       "      <td>1</td>\n",
       "      <td>4.0</td>\n",
       "      <td>964982703</td>\n",
       "    </tr>\n",
       "    <tr>\n",
       "      <th>1</th>\n",
       "      <td>1</td>\n",
       "      <td>3</td>\n",
       "      <td>4.0</td>\n",
       "      <td>964981247</td>\n",
       "    </tr>\n",
       "    <tr>\n",
       "      <th>2</th>\n",
       "      <td>1</td>\n",
       "      <td>6</td>\n",
       "      <td>4.0</td>\n",
       "      <td>964982224</td>\n",
       "    </tr>\n",
       "    <tr>\n",
       "      <th>3</th>\n",
       "      <td>1</td>\n",
       "      <td>47</td>\n",
       "      <td>5.0</td>\n",
       "      <td>964983815</td>\n",
       "    </tr>\n",
       "    <tr>\n",
       "      <th>4</th>\n",
       "      <td>1</td>\n",
       "      <td>50</td>\n",
       "      <td>5.0</td>\n",
       "      <td>964982931</td>\n",
       "    </tr>\n",
       "  </tbody>\n",
       "</table>\n",
       "</div>"
      ],
      "text/plain": [
       "   userId  movieId  rating  timestamp\n",
       "0       1        1     4.0  964982703\n",
       "1       1        3     4.0  964981247\n",
       "2       1        6     4.0  964982224\n",
       "3       1       47     5.0  964983815\n",
       "4       1       50     5.0  964982931"
      ]
     },
     "execution_count": 4,
     "metadata": {},
     "output_type": "execute_result"
    }
   ],
   "source": [
    "data_ratings.head()#просмотр содержимого"
   ]
  },
  {
   "cell_type": "code",
   "execution_count": 6,
   "metadata": {},
   "outputs": [
    {
     "data": {
      "text/html": [
       "<div>\n",
       "<style scoped>\n",
       "    .dataframe tbody tr th:only-of-type {\n",
       "        vertical-align: middle;\n",
       "    }\n",
       "\n",
       "    .dataframe tbody tr th {\n",
       "        vertical-align: top;\n",
       "    }\n",
       "\n",
       "    .dataframe thead th {\n",
       "        text-align: right;\n",
       "    }\n",
       "</style>\n",
       "<table border=\"1\" class=\"dataframe\">\n",
       "  <thead>\n",
       "    <tr style=\"text-align: right;\">\n",
       "      <th></th>\n",
       "      <th>movieId</th>\n",
       "      <th>title</th>\n",
       "      <th>genres</th>\n",
       "    </tr>\n",
       "  </thead>\n",
       "  <tbody>\n",
       "    <tr>\n",
       "      <th>277</th>\n",
       "      <td>318</td>\n",
       "      <td>Shawshank Redemption, The (1994)</td>\n",
       "      <td>Crime|Drama</td>\n",
       "    </tr>\n",
       "  </tbody>\n",
       "</table>\n",
       "</div>"
      ],
      "text/plain": [
       "     movieId                             title       genres\n",
       "277      318  Shawshank Redemption, The (1994)  Crime|Drama"
      ]
     },
     "execution_count": 6,
     "metadata": {},
     "output_type": "execute_result"
    }
   ],
   "source": [
    "#берем фильм с оценкой 5. Считаем распределение по фильмам\n",
    "film = data_ratings[data_ratings.rating==5]['movieId'].value_counts() \n",
    "# выбираем номер фильма из первой строки (с самым большим кол-вом вхождений. По id восстанавливаем название фильма)\n",
    "data_movies[data_movies.movieId == film.index[0]]"
   ]
  },
  {
   "cell_type": "code",
   "execution_count": 12,
   "metadata": {},
   "outputs": [],
   "source": [
    "#Задание 2\n",
    "#По данным файла power.csv посчитайте суммарное потребление стран Прибалтики \n",
    "#(Латвия, Литва и Эстония) категорий 4, 12 и 21 за период с 2005 по 2010 года. \n",
    "#Не учитывайте в расчетах отрицательные значения quantity.\n",
    "\n",
    "#чтение файла\n",
    "data_power = pd.read_csv(r'C:\\Users\\mazar\\Documents\\Python\\Нетология - курс\\Ноутбуки с лекций\\10._Основы_pandas\\power.csv')\n"
   ]
  },
  {
   "cell_type": "code",
   "execution_count": 13,
   "metadata": {
    "scrolled": false
   },
   "outputs": [
    {
     "data": {
      "text/html": [
       "<div>\n",
       "<style scoped>\n",
       "    .dataframe tbody tr th:only-of-type {\n",
       "        vertical-align: middle;\n",
       "    }\n",
       "\n",
       "    .dataframe tbody tr th {\n",
       "        vertical-align: top;\n",
       "    }\n",
       "\n",
       "    .dataframe thead th {\n",
       "        text-align: right;\n",
       "    }\n",
       "</style>\n",
       "<table border=\"1\" class=\"dataframe\">\n",
       "  <thead>\n",
       "    <tr style=\"text-align: right;\">\n",
       "      <th></th>\n",
       "      <th>country</th>\n",
       "      <th>year</th>\n",
       "      <th>quantity</th>\n",
       "      <th>category</th>\n",
       "    </tr>\n",
       "  </thead>\n",
       "  <tbody>\n",
       "    <tr>\n",
       "      <th>0</th>\n",
       "      <td>Austria</td>\n",
       "      <td>1996</td>\n",
       "      <td>5.0</td>\n",
       "      <td>1</td>\n",
       "    </tr>\n",
       "    <tr>\n",
       "      <th>1</th>\n",
       "      <td>Austria</td>\n",
       "      <td>1995</td>\n",
       "      <td>17.0</td>\n",
       "      <td>1</td>\n",
       "    </tr>\n",
       "    <tr>\n",
       "      <th>2</th>\n",
       "      <td>Belgium</td>\n",
       "      <td>2014</td>\n",
       "      <td>0.0</td>\n",
       "      <td>1</td>\n",
       "    </tr>\n",
       "    <tr>\n",
       "      <th>3</th>\n",
       "      <td>Belgium</td>\n",
       "      <td>2013</td>\n",
       "      <td>0.0</td>\n",
       "      <td>1</td>\n",
       "    </tr>\n",
       "    <tr>\n",
       "      <th>4</th>\n",
       "      <td>Belgium</td>\n",
       "      <td>2012</td>\n",
       "      <td>35.0</td>\n",
       "      <td>1</td>\n",
       "    </tr>\n",
       "  </tbody>\n",
       "</table>\n",
       "</div>"
      ],
      "text/plain": [
       "   country  year  quantity  category\n",
       "0  Austria  1996       5.0         1\n",
       "1  Austria  1995      17.0         1\n",
       "2  Belgium  2014       0.0         1\n",
       "3  Belgium  2013       0.0         1\n",
       "4  Belgium  2012      35.0         1"
      ]
     },
     "execution_count": 13,
     "metadata": {},
     "output_type": "execute_result"
    }
   ],
   "source": [
    "data_power.head() #просмотр содержимого"
   ]
  },
  {
   "cell_type": "code",
   "execution_count": 97,
   "metadata": {},
   "outputs": [
    {
     "data": {
      "text/plain": [
       "Index(['country', 'year', 'quantity', 'category'], dtype='object')"
      ]
     },
     "execution_count": 97,
     "metadata": {},
     "output_type": "execute_result"
    }
   ],
   "source": [
    "data_power.columns"
   ]
  },
  {
   "cell_type": "code",
   "execution_count": 29,
   "metadata": {
    "scrolled": true
   },
   "outputs": [
    {
     "data": {
      "text/plain": [
       "array(['Afghanistan', 'Albania', 'Algeria', 'American Samoa', 'Andorra',\n",
       "       'Angola', 'Anguilla', 'Antarctic Fisheries', 'Antigua and Barbuda',\n",
       "       'Argentina', 'Armenia', 'Aruba', 'Australia', 'Austria',\n",
       "       'Azerbaijan', 'Bahamas', 'Bahrain', 'Bangladesh', 'Barbados',\n",
       "       'Belarus', 'Belgium', 'Belize', 'Benin', 'Bermuda', 'Bhutan',\n",
       "       'Bolivia (Plur. State of)', 'Bonaire, St Eustatius, Saba',\n",
       "       'Bosnia and Herzegovina', 'Botswana', 'Brazil',\n",
       "       'British Virgin Islands', 'Brunei Darussalam', 'Bulgaria',\n",
       "       'Burkina Faso', 'Burundi', 'Cabo Verde', 'Cambodia', 'Cameroon',\n",
       "       'Canada', 'Cayman Islands', 'Central African Rep.', 'Chad',\n",
       "       'Chile', 'China', 'China, Hong Kong SAR', 'China, Macao SAR',\n",
       "       'Colombia', 'Commonwealth of Independent States (CIS)', 'Comoros',\n",
       "       'Congo', 'Cook Islands', 'Costa Rica', 'Croatia', 'Cuba',\n",
       "       'Curaçao', 'Cyprus', 'Czechia', 'Czechoslovakia (former)',\n",
       "       \"Côte d'Ivoire\", 'Dem. Rep. of the Congo', 'Denmark', 'Djibouti',\n",
       "       'Dominica', 'Dominican Republic', 'Ecuador', 'Egypt',\n",
       "       'El Salvador', 'Equatorial Guinea', 'Eritrea', 'Estonia',\n",
       "       'Ethiopia', 'Ethiopia, incl. Eritrea', 'Faeroe Islands',\n",
       "       'Falkland Is. (Malvinas)', 'Fiji', 'Finland', 'France',\n",
       "       'French Guiana', 'French Polynesia', 'Gabon', 'Gambia', 'Georgia',\n",
       "       'German Dem. R. (former)', 'Germany', 'Germany, Fed. R. (former)',\n",
       "       'Ghana', 'Gibraltar', 'Greece', 'Greenland', 'Grenada',\n",
       "       'Guadeloupe', 'Guam', 'Guatemala', 'Guernsey', 'Guinea',\n",
       "       'Guinea-Bissau', 'Guyana', 'Haiti', 'Honduras', 'Hungary',\n",
       "       'Iceland', 'India', 'Indonesia', 'Iran (Islamic Rep. of)', 'Iraq',\n",
       "       'Ireland', 'Isle of Man', 'Israel', 'Italy', 'Jamaica', 'Japan',\n",
       "       'Jersey', 'Jordan', 'Kazakhstan', 'Kenya', 'Kiribati',\n",
       "       \"Korea, Dem.Ppl's.Rep.\", 'Korea, Republic of', 'Kuwait',\n",
       "       'Kyrgyzstan', \"Lao People's Dem. Rep.\", 'Latvia', 'Lebanon',\n",
       "       'Lesotho', 'Liberia', 'Libya', 'Liechtenstein', 'Lithuania',\n",
       "       'Luxembourg', 'Madagascar', 'Malawi', 'Malaysia', 'Maldives',\n",
       "       'Mali', 'Malta', 'Marshall Islands', 'Martinique', 'Mauritania',\n",
       "       'Mauritius', 'Mayotte', 'Mexico', 'Micronesia (Fed. States of)',\n",
       "       'Mongolia', 'Montenegro', 'Montserrat', 'Morocco', 'Mozambique',\n",
       "       'Myanmar', 'Namibia', 'Nauru', 'Nepal', 'Neth. Antilles (former)',\n",
       "       'Netherlands', 'New Caledonia', 'New Zealand', 'Nicaragua',\n",
       "       'Niger', 'Nigeria', 'Niue', 'Northern Mariana Islands', 'Norway',\n",
       "       'Oman', 'Other Asia', 'Pacific Islands (former)', 'Pakistan',\n",
       "       'Palau', 'Panama', 'Papua New Guinea', 'Paraguay', 'Peru',\n",
       "       'Philippines', 'Poland', 'Portugal', 'Puerto Rico', 'Qatar',\n",
       "       'Republic of Moldova', 'Romania', 'Russian Federation', 'Rwanda',\n",
       "       'Réunion', 'Samoa', 'Sao Tome and Principe', 'Saudi Arabia',\n",
       "       'Senegal', 'Serbia', 'Serbia and Montenegro', 'Seychelles',\n",
       "       'Sierra Leone', 'Singapore', 'Sint Maarten (Dutch part)',\n",
       "       'Slovakia', 'Slovenia', 'Solomon Islands', 'Somalia',\n",
       "       'South Africa', 'South Sudan', 'Spain', 'Sri Lanka',\n",
       "       'St. Helena and Depend.', 'St. Kitts-Nevis', 'St. Lucia',\n",
       "       'St. Pierre-Miquelon', 'St. Vincent-Grenadines',\n",
       "       'State of Palestine', 'Sudan', 'Sudan (former)', 'Suriname',\n",
       "       'Swaziland', 'Sweden', 'Switzerland', 'Syrian Arab Republic',\n",
       "       'T.F.Yug.Rep. Macedonia', 'Tajikistan', 'Thailand', 'Timor-Leste',\n",
       "       'Togo', 'Tonga', 'Trinidad and Tobago', 'Tunisia', 'Turkey',\n",
       "       'Turkmenistan', 'Turks and Caicos Islands', 'Tuvalu',\n",
       "       'USSR (former)', 'Uganda', 'Ukraine', 'United Arab Emirates',\n",
       "       'United Kingdom', 'United Rep. of Tanzania', 'United States',\n",
       "       'United States Virgin Is.', 'Uruguay', 'Uzbekistan', 'Vanuatu',\n",
       "       'Venezuela (Bolivar. Rep.)', 'Viet Nam', 'Wallis and Futuna Is.',\n",
       "       'Yemen', 'Yemen Arab Rep. (former)', 'Yemen, Dem. (former)',\n",
       "       'Yugoslavia, SFR (former)', 'Zambia', 'Zimbabwe'], dtype=object)"
      ]
     },
     "execution_count": 29,
     "metadata": {},
     "output_type": "execute_result"
    }
   ],
   "source": [
    "data_power.country.sort_values().unique() #смотрим написание названия стран"
   ]
  },
  {
   "cell_type": "code",
   "execution_count": 43,
   "metadata": {},
   "outputs": [
    {
     "data": {
      "text/plain": [
       "array([ 1,  2,  3,  4,  5,  6,  7,  8,  9, 10, 11, 12, 13, 14, 15, 16, 17,\n",
       "       18, 19, 20, 21, 22, 23, 24, 25, 26, 27, 28, 29, 30, 31, 32, 33, 34,\n",
       "       35, 36, 37, 38, 39, 40, 41, 42, 43, 44, 45, 46, 47, 48, 49, 50, 51,\n",
       "       52, 53, 54, 55, 56, 57, 58, 59, 60, 61, 62, 63, 64, 65, 66, 67, 68,\n",
       "       69, 70, 71], dtype=int64)"
      ]
     },
     "execution_count": 43,
     "metadata": {},
     "output_type": "execute_result"
    }
   ],
   "source": [
    "data_power.category.sort_values().unique() #смотрим варианты категорий"
   ]
  },
  {
   "cell_type": "code",
   "execution_count": 44,
   "metadata": {},
   "outputs": [
    {
     "data": {
      "text/plain": [
       "array([1990, 1991, 1992, 1993, 1994, 1995, 1996, 1997, 1998, 1999, 2000,\n",
       "       2001, 2002, 2003, 2004, 2005, 2006, 2007, 2008, 2009, 2010, 2011,\n",
       "       2012, 2013, 2014], dtype=int64)"
      ]
     },
     "execution_count": 44,
     "metadata": {},
     "output_type": "execute_result"
    }
   ],
   "source": [
    "data_power.year.sort_values().unique() #смотрим варианты лет"
   ]
  },
  {
   "cell_type": "code",
   "execution_count": 55,
   "metadata": {},
   "outputs": [
    {
     "data": {
      "text/plain": [
       "240580.0"
      ]
     },
     "execution_count": 55,
     "metadata": {},
     "output_type": "execute_result"
    }
   ],
   "source": [
    "#Решение\n",
    "data_power[data_power.country.isin(['Estonia', 'Latvia', 'Lithuania']) \n",
    "           & data_power.category.isin([4, 12, 21] ) \n",
    "           & (data_power.year >= 2005) & (data_power.year <= 2010)\n",
    "           & (data_power.quantity >= 0) ]['quantity'].sum()\n",
    "\n"
   ]
  },
  {
   "cell_type": "code",
   "execution_count": 217,
   "metadata": {
    "scrolled": true
   },
   "outputs": [],
   "source": [
    "#Задание 3\n",
    "#Выберите страницу любого сайта с табличными данными. Импортируйте таблицы в pandas dataframe.\n",
    "\n",
    "page_url = 'https://www.weatherapi.com/weather/q/moscow-moscow-city-russia-2145091'\n",
    "\n",
    "df = pd.read_html(page_url, attrs = {'class': 'table table-condensed table-hover table-bordered small'})\n"
   ]
  },
  {
   "cell_type": "code",
   "execution_count": 218,
   "metadata": {},
   "outputs": [
    {
     "data": {
      "text/html": [
       "<div>\n",
       "<style scoped>\n",
       "    .dataframe tbody tr th:only-of-type {\n",
       "        vertical-align: middle;\n",
       "    }\n",
       "\n",
       "    .dataframe tbody tr th {\n",
       "        vertical-align: top;\n",
       "    }\n",
       "\n",
       "    .dataframe thead th {\n",
       "        text-align: right;\n",
       "    }\n",
       "</style>\n",
       "<table border=\"1\" class=\"dataframe\">\n",
       "  <thead>\n",
       "    <tr style=\"text-align: right;\">\n",
       "      <th></th>\n",
       "      <th>0</th>\n",
       "      <th>1</th>\n",
       "      <th>2</th>\n",
       "      <th>3</th>\n",
       "      <th>4</th>\n",
       "      <th>5</th>\n",
       "      <th>6</th>\n",
       "      <th>7</th>\n",
       "      <th>8</th>\n",
       "    </tr>\n",
       "  </thead>\n",
       "  <tbody>\n",
       "    <tr>\n",
       "      <th>0</th>\n",
       "      <td>Icon</td>\n",
       "      <td>NaN</td>\n",
       "      <td>NaN</td>\n",
       "      <td>NaN</td>\n",
       "      <td>NaN</td>\n",
       "      <td>NaN</td>\n",
       "      <td>NaN</td>\n",
       "      <td>NaN</td>\n",
       "      <td>NaN</td>\n",
       "    </tr>\n",
       "    <tr>\n",
       "      <th>1</th>\n",
       "      <td>Temp</td>\n",
       "      <td>0.7°f</td>\n",
       "      <td>0.7°f</td>\n",
       "      <td>0.7°f</td>\n",
       "      <td>1.9°f</td>\n",
       "      <td>5.5°f</td>\n",
       "      <td>3.6°f</td>\n",
       "      <td>-0.2°f</td>\n",
       "      <td>-1.1°f</td>\n",
       "    </tr>\n",
       "    <tr>\n",
       "      <th>2</th>\n",
       "      <td>Wind</td>\n",
       "      <td>4.5 mph</td>\n",
       "      <td>3.8 mph</td>\n",
       "      <td>3.4 mph</td>\n",
       "      <td>2.5 mph</td>\n",
       "      <td>2.0 mph</td>\n",
       "      <td>2.0 mph</td>\n",
       "      <td>1.3 mph</td>\n",
       "      <td>1.6 mph</td>\n",
       "    </tr>\n",
       "    <tr>\n",
       "      <th>3</th>\n",
       "      <td>Precip</td>\n",
       "      <td>0.00 in</td>\n",
       "      <td>0.00 in</td>\n",
       "      <td>0.00 in</td>\n",
       "      <td>0.00 in</td>\n",
       "      <td>0.00 in</td>\n",
       "      <td>0.00 in</td>\n",
       "      <td>0.00 in</td>\n",
       "      <td>0.00 in</td>\n",
       "    </tr>\n",
       "    <tr>\n",
       "      <th>4</th>\n",
       "      <td>Cloud</td>\n",
       "      <td>87%</td>\n",
       "      <td>89%</td>\n",
       "      <td>83%</td>\n",
       "      <td>85%</td>\n",
       "      <td>84%</td>\n",
       "      <td>84%</td>\n",
       "      <td>93%</td>\n",
       "      <td>100%</td>\n",
       "    </tr>\n",
       "    <tr>\n",
       "      <th>5</th>\n",
       "      <td>Humidity</td>\n",
       "      <td>97%</td>\n",
       "      <td>97%</td>\n",
       "      <td>97%</td>\n",
       "      <td>96%</td>\n",
       "      <td>95%</td>\n",
       "      <td>97%</td>\n",
       "      <td>99%</td>\n",
       "      <td>99%</td>\n",
       "    </tr>\n",
       "    <tr>\n",
       "      <th>6</th>\n",
       "      <td>Pressure</td>\n",
       "      <td>30.6 in</td>\n",
       "      <td>30.6 in</td>\n",
       "      <td>30.6 in</td>\n",
       "      <td>30.7 in</td>\n",
       "      <td>30.6 in</td>\n",
       "      <td>30.6 in</td>\n",
       "      <td>30.6 in</td>\n",
       "      <td>30.6 in</td>\n",
       "    </tr>\n",
       "    <tr>\n",
       "      <th>7</th>\n",
       "      <td>NaN</td>\n",
       "      <td>Mon 110:00 am</td>\n",
       "      <td>Mon 113:00 am</td>\n",
       "      <td>Mon 116:00 am</td>\n",
       "      <td>Mon 119:00 am</td>\n",
       "      <td>Mon 1112:00 pm</td>\n",
       "      <td>Mon 113:00 pm</td>\n",
       "      <td>Mon 116:00 pm</td>\n",
       "      <td>Mon 118:00 pm</td>\n",
       "    </tr>\n",
       "  </tbody>\n",
       "</table>\n",
       "</div>"
      ],
      "text/plain": [
       "          0              1              2              3              4  \\\n",
       "0      Icon            NaN            NaN            NaN            NaN   \n",
       "1      Temp          0.7°f          0.7°f          0.7°f          1.9°f   \n",
       "2      Wind        4.5 mph        3.8 mph        3.4 mph        2.5 mph   \n",
       "3    Precip        0.00 in        0.00 in        0.00 in        0.00 in   \n",
       "4     Cloud            87%            89%            83%            85%   \n",
       "5  Humidity            97%            97%            97%            96%   \n",
       "6  Pressure        30.6 in        30.6 in        30.6 in        30.7 in   \n",
       "7       NaN  Mon 110:00 am  Mon 113:00 am  Mon 116:00 am  Mon 119:00 am   \n",
       "\n",
       "                5              6              7              8  \n",
       "0             NaN            NaN            NaN            NaN  \n",
       "1           5.5°f          3.6°f         -0.2°f         -1.1°f  \n",
       "2         2.0 mph        2.0 mph        1.3 mph        1.6 mph  \n",
       "3         0.00 in        0.00 in        0.00 in        0.00 in  \n",
       "4             84%            84%            93%           100%  \n",
       "5             95%            97%            99%            99%  \n",
       "6         30.6 in        30.6 in        30.6 in        30.6 in  \n",
       "7  Mon 1112:00 pm  Mon 113:00 pm  Mon 116:00 pm  Mon 118:00 pm  "
      ]
     },
     "execution_count": 218,
     "metadata": {},
     "output_type": "execute_result"
    }
   ],
   "source": [
    "df[1]"
   ]
  },
  {
   "cell_type": "code",
   "execution_count": 219,
   "metadata": {},
   "outputs": [],
   "source": [
    "data_weather = df[1].transpose()\n"
   ]
  },
  {
   "cell_type": "code",
   "execution_count": 220,
   "metadata": {},
   "outputs": [
    {
     "data": {
      "text/html": [
       "<div>\n",
       "<style scoped>\n",
       "    .dataframe tbody tr th:only-of-type {\n",
       "        vertical-align: middle;\n",
       "    }\n",
       "\n",
       "    .dataframe tbody tr th {\n",
       "        vertical-align: top;\n",
       "    }\n",
       "\n",
       "    .dataframe thead th {\n",
       "        text-align: right;\n",
       "    }\n",
       "</style>\n",
       "<table border=\"1\" class=\"dataframe\">\n",
       "  <thead>\n",
       "    <tr style=\"text-align: right;\">\n",
       "      <th></th>\n",
       "      <th>0</th>\n",
       "      <th>1</th>\n",
       "      <th>2</th>\n",
       "      <th>3</th>\n",
       "      <th>4</th>\n",
       "      <th>5</th>\n",
       "      <th>6</th>\n",
       "      <th>7</th>\n",
       "    </tr>\n",
       "  </thead>\n",
       "  <tbody>\n",
       "    <tr>\n",
       "      <th>0</th>\n",
       "      <td>Icon</td>\n",
       "      <td>Temp</td>\n",
       "      <td>Wind</td>\n",
       "      <td>Precip</td>\n",
       "      <td>Cloud</td>\n",
       "      <td>Humidity</td>\n",
       "      <td>Pressure</td>\n",
       "      <td>NaN</td>\n",
       "    </tr>\n",
       "    <tr>\n",
       "      <th>1</th>\n",
       "      <td>NaN</td>\n",
       "      <td>0.7°f</td>\n",
       "      <td>4.5 mph</td>\n",
       "      <td>0.00 in</td>\n",
       "      <td>87%</td>\n",
       "      <td>97%</td>\n",
       "      <td>30.6 in</td>\n",
       "      <td>Mon 110:00 am</td>\n",
       "    </tr>\n",
       "    <tr>\n",
       "      <th>2</th>\n",
       "      <td>NaN</td>\n",
       "      <td>0.7°f</td>\n",
       "      <td>3.8 mph</td>\n",
       "      <td>0.00 in</td>\n",
       "      <td>89%</td>\n",
       "      <td>97%</td>\n",
       "      <td>30.6 in</td>\n",
       "      <td>Mon 113:00 am</td>\n",
       "    </tr>\n",
       "    <tr>\n",
       "      <th>3</th>\n",
       "      <td>NaN</td>\n",
       "      <td>0.7°f</td>\n",
       "      <td>3.4 mph</td>\n",
       "      <td>0.00 in</td>\n",
       "      <td>83%</td>\n",
       "      <td>97%</td>\n",
       "      <td>30.6 in</td>\n",
       "      <td>Mon 116:00 am</td>\n",
       "    </tr>\n",
       "    <tr>\n",
       "      <th>4</th>\n",
       "      <td>NaN</td>\n",
       "      <td>1.9°f</td>\n",
       "      <td>2.5 mph</td>\n",
       "      <td>0.00 in</td>\n",
       "      <td>85%</td>\n",
       "      <td>96%</td>\n",
       "      <td>30.7 in</td>\n",
       "      <td>Mon 119:00 am</td>\n",
       "    </tr>\n",
       "    <tr>\n",
       "      <th>5</th>\n",
       "      <td>NaN</td>\n",
       "      <td>5.5°f</td>\n",
       "      <td>2.0 mph</td>\n",
       "      <td>0.00 in</td>\n",
       "      <td>84%</td>\n",
       "      <td>95%</td>\n",
       "      <td>30.6 in</td>\n",
       "      <td>Mon 1112:00 pm</td>\n",
       "    </tr>\n",
       "    <tr>\n",
       "      <th>6</th>\n",
       "      <td>NaN</td>\n",
       "      <td>3.6°f</td>\n",
       "      <td>2.0 mph</td>\n",
       "      <td>0.00 in</td>\n",
       "      <td>84%</td>\n",
       "      <td>97%</td>\n",
       "      <td>30.6 in</td>\n",
       "      <td>Mon 113:00 pm</td>\n",
       "    </tr>\n",
       "    <tr>\n",
       "      <th>7</th>\n",
       "      <td>NaN</td>\n",
       "      <td>-0.2°f</td>\n",
       "      <td>1.3 mph</td>\n",
       "      <td>0.00 in</td>\n",
       "      <td>93%</td>\n",
       "      <td>99%</td>\n",
       "      <td>30.6 in</td>\n",
       "      <td>Mon 116:00 pm</td>\n",
       "    </tr>\n",
       "    <tr>\n",
       "      <th>8</th>\n",
       "      <td>NaN</td>\n",
       "      <td>-1.1°f</td>\n",
       "      <td>1.6 mph</td>\n",
       "      <td>0.00 in</td>\n",
       "      <td>100%</td>\n",
       "      <td>99%</td>\n",
       "      <td>30.6 in</td>\n",
       "      <td>Mon 118:00 pm</td>\n",
       "    </tr>\n",
       "  </tbody>\n",
       "</table>\n",
       "</div>"
      ],
      "text/plain": [
       "      0       1        2        3      4         5         6               7\n",
       "0  Icon    Temp     Wind   Precip  Cloud  Humidity  Pressure             NaN\n",
       "1   NaN   0.7°f  4.5 mph  0.00 in    87%       97%   30.6 in   Mon 110:00 am\n",
       "2   NaN   0.7°f  3.8 mph  0.00 in    89%       97%   30.6 in   Mon 113:00 am\n",
       "3   NaN   0.7°f  3.4 mph  0.00 in    83%       97%   30.6 in   Mon 116:00 am\n",
       "4   NaN   1.9°f  2.5 mph  0.00 in    85%       96%   30.7 in   Mon 119:00 am\n",
       "5   NaN   5.5°f  2.0 mph  0.00 in    84%       95%   30.6 in  Mon 1112:00 pm\n",
       "6   NaN   3.6°f  2.0 mph  0.00 in    84%       97%   30.6 in   Mon 113:00 pm\n",
       "7   NaN  -0.2°f  1.3 mph  0.00 in    93%       99%   30.6 in   Mon 116:00 pm\n",
       "8   NaN  -1.1°f  1.6 mph  0.00 in   100%       99%   30.6 in   Mon 118:00 pm"
      ]
     },
     "execution_count": 220,
     "metadata": {},
     "output_type": "execute_result"
    }
   ],
   "source": [
    "data_weather"
   ]
  },
  {
   "cell_type": "code",
   "execution_count": 221,
   "metadata": {},
   "outputs": [
    {
     "data": {
      "text/plain": [
       "pandas.core.frame.DataFrame"
      ]
     },
     "execution_count": 221,
     "metadata": {},
     "output_type": "execute_result"
    }
   ],
   "source": [
    "type(data_weather) #проверяем тип"
   ]
  },
  {
   "cell_type": "code",
   "execution_count": 222,
   "metadata": {
    "scrolled": false
   },
   "outputs": [
    {
     "name": "stdout",
     "output_type": "stream",
     "text": [
      "<class 'pandas.core.frame.DataFrame'>\n",
      "Int64Index: 9 entries, 0 to 8\n",
      "Data columns (total 8 columns):\n",
      " #   Column  Non-Null Count  Dtype \n",
      "---  ------  --------------  ----- \n",
      " 0   0       1 non-null      object\n",
      " 1   1       9 non-null      object\n",
      " 2   2       9 non-null      object\n",
      " 3   3       9 non-null      object\n",
      " 4   4       9 non-null      object\n",
      " 5   5       9 non-null      object\n",
      " 6   6       9 non-null      object\n",
      " 7   7       8 non-null      object\n",
      "dtypes: object(8)\n",
      "memory usage: 968.0+ bytes\n"
     ]
    }
   ],
   "source": [
    "data_weather.info() #смотрим информацию"
   ]
  }
 ],
 "metadata": {
  "kernelspec": {
   "display_name": "Python 3",
   "language": "python",
   "name": "python3"
  },
  "language_info": {
   "codemirror_mode": {
    "name": "ipython",
    "version": 3
   },
   "file_extension": ".py",
   "mimetype": "text/x-python",
   "name": "python",
   "nbconvert_exporter": "python",
   "pygments_lexer": "ipython3",
   "version": "3.8.3"
  }
 },
 "nbformat": 4,
 "nbformat_minor": 4
}
